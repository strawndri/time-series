{
  "nbformat": 4,
  "nbformat_minor": 0,
  "metadata": {
    "colab": {
      "name": "time_series.ipynb",
      "provenance": [],
      "include_colab_link": true
    },
    "kernelspec": {
      "name": "python3",
      "display_name": "Python 3"
    },
    "language_info": {
      "name": "python"
    }
  },
  "cells": [
    {
      "cell_type": "markdown",
      "metadata": {
        "id": "view-in-github",
        "colab_type": "text"
      },
      "source": [
        "<a href=\"https://colab.research.google.com/github/strawndri/time-series/blob/main/time_series.ipynb\" target=\"_parent\"><img src=\"https://colab.research.google.com/assets/colab-badge.svg\" alt=\"Open In Colab\"/></a>"
      ]
    },
    {
      "cell_type": "markdown",
      "metadata": {
        "id": "2O8Xjr2H2KlP"
      },
      "source": [
        "#Extras\n",
        "\n",
        "## Time Series é uma coleção de dados que segue uma ordem cronológica, um **tempo sequencial**. O período que é representado pode ser em segundos, minutos, horas, dias, meses, anos, etc.\n",
        "\n",
        "> **Conteúdo da Alura**:\n",
        "- Crescimento proporcional entre linhas (time series) utilizando pandas: \n",
        "https://www.alura.com.br/artigos/crescimento-proporcional-entre-linhas-time-series-utilizando-pandas"
      ]
    },
    {
      "cell_type": "markdown",
      "metadata": {
        "id": "Jvwfyi3MnJE4"
      },
      "source": [
        "# Importando Bibliotecas"
      ]
    },
    {
      "cell_type": "code",
      "metadata": {
        "id": "QMn00ySqkMcC",
        "outputId": "0626724a-7831-461f-c9e6-fac1a6ec97ca",
        "colab": {
          "base_uri": "https://localhost:8080/"
        }
      },
      "source": [
        "import pandas as pd\n",
        "\n",
        "!pip install seaborn\n",
        "import seaborn as sns\n",
        "\n",
        "%matplotlib inline\n",
        "import matplotlib.pyplot as plt"
      ],
      "execution_count": 1,
      "outputs": [
        {
          "output_type": "stream",
          "name": "stdout",
          "text": [
            "Requirement already satisfied: seaborn in /usr/local/lib/python3.7/dist-packages (0.11.2)\n",
            "Requirement already satisfied: scipy>=1.0 in /usr/local/lib/python3.7/dist-packages (from seaborn) (1.4.1)\n",
            "Requirement already satisfied: matplotlib>=2.2 in /usr/local/lib/python3.7/dist-packages (from seaborn) (3.2.2)\n",
            "Requirement already satisfied: pandas>=0.23 in /usr/local/lib/python3.7/dist-packages (from seaborn) (1.1.5)\n",
            "Requirement already satisfied: numpy>=1.15 in /usr/local/lib/python3.7/dist-packages (from seaborn) (1.19.5)\n",
            "Requirement already satisfied: python-dateutil>=2.1 in /usr/local/lib/python3.7/dist-packages (from matplotlib>=2.2->seaborn) (2.8.2)\n",
            "Requirement already satisfied: cycler>=0.10 in /usr/local/lib/python3.7/dist-packages (from matplotlib>=2.2->seaborn) (0.10.0)\n",
            "Requirement already satisfied: pyparsing!=2.0.4,!=2.1.2,!=2.1.6,>=2.0.1 in /usr/local/lib/python3.7/dist-packages (from matplotlib>=2.2->seaborn) (2.4.7)\n",
            "Requirement already satisfied: kiwisolver>=1.0.1 in /usr/local/lib/python3.7/dist-packages (from matplotlib>=2.2->seaborn) (1.3.2)\n",
            "Requirement already satisfied: six in /usr/local/lib/python3.7/dist-packages (from cycler>=0.10->matplotlib>=2.2->seaborn) (1.15.0)\n",
            "Requirement already satisfied: pytz>=2017.2 in /usr/local/lib/python3.7/dist-packages (from pandas>=0.23->seaborn) (2018.9)\n"
          ]
        }
      ]
    },
    {
      "cell_type": "markdown",
      "metadata": {
        "id": "_SCFml8QnzKc"
      },
      "source": [
        "# Alucar - Análise de Vendas"
      ]
    },
    {
      "cell_type": "markdown",
      "metadata": {
        "id": "2p4LepoRn6lC"
      },
      "source": [
        "## Importando a Base de Dados"
      ]
    },
    {
      "cell_type": "code",
      "metadata": {
        "id": "E4NF84BonnR9",
        "outputId": "88473222-3b6b-4ff9-ebf8-320d90930422",
        "colab": {
          "base_uri": "https://localhost:8080/",
          "height": 204
        }
      },
      "source": [
        "url = ('https://raw.githubusercontent.com/strawndri/time-series/main/Data/alucar.csv')\n",
        "alucar = pd.read_csv(url)\n",
        "alucar.head()"
      ],
      "execution_count": 5,
      "outputs": [
        {
          "output_type": "execute_result",
          "data": {
            "text/html": [
              "<div>\n",
              "<style scoped>\n",
              "    .dataframe tbody tr th:only-of-type {\n",
              "        vertical-align: middle;\n",
              "    }\n",
              "\n",
              "    .dataframe tbody tr th {\n",
              "        vertical-align: top;\n",
              "    }\n",
              "\n",
              "    .dataframe thead th {\n",
              "        text-align: right;\n",
              "    }\n",
              "</style>\n",
              "<table border=\"1\" class=\"dataframe\">\n",
              "  <thead>\n",
              "    <tr style=\"text-align: right;\">\n",
              "      <th></th>\n",
              "      <th>mes</th>\n",
              "      <th>vendas</th>\n",
              "    </tr>\n",
              "  </thead>\n",
              "  <tbody>\n",
              "    <tr>\n",
              "      <th>0</th>\n",
              "      <td>2017-01-31</td>\n",
              "      <td>10</td>\n",
              "    </tr>\n",
              "    <tr>\n",
              "      <th>1</th>\n",
              "      <td>2017-02-28</td>\n",
              "      <td>20</td>\n",
              "    </tr>\n",
              "    <tr>\n",
              "      <th>2</th>\n",
              "      <td>2017-03-31</td>\n",
              "      <td>33</td>\n",
              "    </tr>\n",
              "    <tr>\n",
              "      <th>3</th>\n",
              "      <td>2017-04-30</td>\n",
              "      <td>47</td>\n",
              "    </tr>\n",
              "    <tr>\n",
              "      <th>4</th>\n",
              "      <td>2017-05-31</td>\n",
              "      <td>63</td>\n",
              "    </tr>\n",
              "  </tbody>\n",
              "</table>\n",
              "</div>"
            ],
            "text/plain": [
              "          mes  vendas\n",
              "0  2017-01-31      10\n",
              "1  2017-02-28      20\n",
              "2  2017-03-31      33\n",
              "3  2017-04-30      47\n",
              "4  2017-05-31      63"
            ]
          },
          "metadata": {},
          "execution_count": 5
        }
      ]
    },
    {
      "cell_type": "markdown",
      "metadata": {
        "id": "FqaHID-3oo7w"
      },
      "source": [
        "## Analisando o tamanho da base de dados"
      ]
    },
    {
      "cell_type": "code",
      "metadata": {
        "id": "bxaJzhCvouC7",
        "outputId": "232c8e4a-6685-4b72-faf2-10dc11829531",
        "colab": {
          "base_uri": "https://localhost:8080/"
        }
      },
      "source": [
        "print(f'A quantidade de linhas e colunas é: {alucar.shape}')"
      ],
      "execution_count": 8,
      "outputs": [
        {
          "output_type": "stream",
          "name": "stdout",
          "text": [
            "A quantidade de linhas e colunas é: (24, 2)\n"
          ]
        }
      ]
    },
    {
      "cell_type": "markdown",
      "metadata": {
        "id": "qJEhfHflpKuw"
      },
      "source": [
        "## Analisando se há valores nulos"
      ]
    },
    {
      "cell_type": "code",
      "metadata": {
        "id": "9kkTNU9fo4We",
        "outputId": "17060c82-1c86-4ddc-cf9f-c2f377677193",
        "colab": {
          "base_uri": "https://localhost:8080/"
        }
      },
      "source": [
        "# use .sum() duas vezes para somar as duas colunas  \n",
        "valores_nulos = alucar.isna().sum().sum()\n",
        "print(f'Quantidade de valores nulos: {valores_nulos}')"
      ],
      "execution_count": 15,
      "outputs": [
        {
          "output_type": "stream",
          "name": "stdout",
          "text": [
            "Quantidade de valores nulos: 0\n"
          ]
        }
      ]
    },
    {
      "cell_type": "markdown",
      "metadata": {
        "id": "kNsUHjA2wpZp"
      },
      "source": [
        "## Tipos dos dados"
      ]
    },
    {
      "cell_type": "code",
      "metadata": {
        "id": "S5AUUkNLw-Op",
        "outputId": "1d81f059-13cc-4d52-c198-2a6751d20919",
        "colab": {
          "base_uri": "https://localhost:8080/",
          "height": 204
        }
      },
      "source": [
        "alucar.head()"
      ],
      "execution_count": 19,
      "outputs": [
        {
          "output_type": "execute_result",
          "data": {
            "text/html": [
              "<div>\n",
              "<style scoped>\n",
              "    .dataframe tbody tr th:only-of-type {\n",
              "        vertical-align: middle;\n",
              "    }\n",
              "\n",
              "    .dataframe tbody tr th {\n",
              "        vertical-align: top;\n",
              "    }\n",
              "\n",
              "    .dataframe thead th {\n",
              "        text-align: right;\n",
              "    }\n",
              "</style>\n",
              "<table border=\"1\" class=\"dataframe\">\n",
              "  <thead>\n",
              "    <tr style=\"text-align: right;\">\n",
              "      <th></th>\n",
              "      <th>mes</th>\n",
              "      <th>vendas</th>\n",
              "    </tr>\n",
              "  </thead>\n",
              "  <tbody>\n",
              "    <tr>\n",
              "      <th>0</th>\n",
              "      <td>2017-01-31</td>\n",
              "      <td>10</td>\n",
              "    </tr>\n",
              "    <tr>\n",
              "      <th>1</th>\n",
              "      <td>2017-02-28</td>\n",
              "      <td>20</td>\n",
              "    </tr>\n",
              "    <tr>\n",
              "      <th>2</th>\n",
              "      <td>2017-03-31</td>\n",
              "      <td>33</td>\n",
              "    </tr>\n",
              "    <tr>\n",
              "      <th>3</th>\n",
              "      <td>2017-04-30</td>\n",
              "      <td>47</td>\n",
              "    </tr>\n",
              "    <tr>\n",
              "      <th>4</th>\n",
              "      <td>2017-05-31</td>\n",
              "      <td>63</td>\n",
              "    </tr>\n",
              "  </tbody>\n",
              "</table>\n",
              "</div>"
            ],
            "text/plain": [
              "          mes  vendas\n",
              "0  2017-01-31      10\n",
              "1  2017-02-28      20\n",
              "2  2017-03-31      33\n",
              "3  2017-04-30      47\n",
              "4  2017-05-31      63"
            ]
          },
          "metadata": {},
          "execution_count": 19
        }
      ]
    },
    {
      "cell_type": "code",
      "metadata": {
        "id": "bH3Hn62XpWVT",
        "outputId": "9b15c705-324b-403f-8b32-be177ab0d2d8",
        "colab": {
          "base_uri": "https://localhost:8080/"
        }
      },
      "source": [
        "alucar.dtypes"
      ],
      "execution_count": 18,
      "outputs": [
        {
          "output_type": "execute_result",
          "data": {
            "text/plain": [
              "mes       object\n",
              "vendas     int64\n",
              "dtype: object"
            ]
          },
          "metadata": {},
          "execution_count": 18
        }
      ]
    },
    {
      "cell_type": "code",
      "metadata": {
        "id": "_Wqljudzw3Y1"
      },
      "source": [
        "# transformando os valores do \"mês\" em datas\n",
        "alucar['mes'] = pd.to_datetime(alucar['mes'])"
      ],
      "execution_count": 21,
      "outputs": []
    },
    {
      "cell_type": "markdown",
      "metadata": {
        "id": "I3E07OSrxPke"
      },
      "source": [
        "## Gráfico das Vendas"
      ]
    },
    {
      "cell_type": "markdown",
      "metadata": {
        "id": "IGbBvw2qyCZW"
      },
      "source": [
        "Há algumas padronizações a serem utilizadas quando estamos trabalhando com gráficos (Data Visualization).\n",
        "\n",
        "Para mais informações, acesse: *https://urbaninstitute.github.io/graphics-styleguide/*"
      ]
    },
    {
      "cell_type": "code",
      "metadata": {
        "id": "JlKo7IDqxS1s",
        "outputId": "f721faeb-a43c-41fe-879e-88a858373b73",
        "colab": {
          "base_uri": "https://localhost:8080/",
          "height": 412
        }
      },
      "source": [
        "ax = sns.lineplot(x='mes', y='vendas', data=alucar)\n",
        "sns.set_palette('Accent')\n",
        "sns.set_style('darkgrid')\n",
        "ax.figure.set_size_inches(12,6)\n",
        "ax.set_title('Vendas da Alucar entre 2017 e 2018', fontsize=18, loc='left')\n",
        "\n",
        "ax.set_xlabel('Tempo (meses)', fontsize=14)\n",
        "ax.set_ylabel('Vendas (R$)', fontsize=14)\n",
        "ax = ax"
      ],
      "execution_count": 48,
      "outputs": [
        {
          "output_type": "display_data",
          "data": {
            "image/png": "[encoded data removed]",
            "text/plain": [
              "<Figure size 864x432 with 1 Axes>"
            ]
          },
          "metadata": {}
        }
      ]
    },
    {
      "cell_type": "code",
      "metadata": {
        "id": "t0pyRedyxYvP"
      },
      "source": [
        ""
      ],
      "execution_count": null,
      "outputs": []
    }
  ]
}